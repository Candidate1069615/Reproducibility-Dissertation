{
 "cells": [
  {
   "cell_type": "code",
   "execution_count": 2,
   "metadata": {},
   "outputs": [],
   "source": [
    "import numpy as np\n",
    "from scipy.special import betaincinv\n",
    "from scipy.integrate import quad\n",
    "import numpy as np\n",
    "import matplotlib.pyplot as plt"
   ]
  },
  {
   "cell_type": "code",
   "execution_count": 3,
   "metadata": {},
   "outputs": [],
   "source": [
    "def Phi(p, pm, n):\n",
    "    lp = betaincinv(n/2, 1/2, 2*p)\n",
    "    lpm = betaincinv(1/2, n/2, 1-2*pm)\n",
    "    return (\n",
    "        (lp**((0.5)*(-n-1))) *\n",
    "        np.sqrt((-lp*(lpm-1))/((lp-1)*lpm - 2*np.sqrt((1-lp)*lp)*np.sqrt((1-lpm)*lpm) + 1)) *\n",
    "        (1/((1/lp) - (2*np.sqrt(1-lp)*np.sqrt(lpm)/(np.sqrt(lp)*np.sqrt(1-lpm))) + (1/(1-lpm)) - 1))**(n/2)\n",
    "    )\n",
    "\n",
    "median_p = 0.02\n",
    "n_reps = 30\n",
    "\n",
    "def Phi_fixed(p):\n",
    "    return Phi(p, median_p, n_reps)\n",
    "\n",
    "def Phi_integral(x):\n",
    "    if x == 0:\n",
    "        return 0\n",
    "    return quad(Phi_fixed, 0, x)[0]"
   ]
  },
  {
   "cell_type": "code",
   "execution_count": 4,
   "metadata": {},
   "outputs": [
    {
     "data": {
      "image/png": "[encoded data removed]",
      "text/plain": [
       "<Figure size 432x288 with 1 Axes>"
      ]
     },
     "metadata": {
      "needs_background": "light"
     },
     "output_type": "display_data"
    }
   ],
   "source": [
    "import numpy as np\n",
    "import matplotlib.pyplot as plt\n",
    "\n",
    "# Define the range of x values to interpolate over\n",
    "x_range = (0, 0.5)\n",
    "\n",
    "# Define the number of data points to use\n",
    "n_points = 51\n",
    "\n",
    "# Generate the data points to interpolate\n",
    "x_points = np.cos(np.pi * (np.arange(n_points) / (n_points - 1)))\n",
    "x_points_rescaled = (x_points + 1) / 2 * (x_range[1] - x_range[0]) + x_range[0]\n",
    "y_points = np.array([Phi_integral(x) for x in x_points_rescaled])\n",
    "\n",
    "# Compute the Chebyshev interpolating polynomial using the original x_points\n",
    "cheb_coeffs = np.polynomial.chebyshev.chebfit(x_points, y_points, n_points - 1)\n",
    "\n",
    "# Define a sequence of x values to evaluate the interpolating polynomial at\n",
    "x_seq = np.linspace(x_range[0], x_range[1], 100)\n",
    "\n",
    "# Rescale x_seq to match the original x_points scale\n",
    "x_seq_rescaled = (2 * (x_seq - x_range[0]) / (x_range[1] - x_range[0])) - 1\n",
    "\n",
    "# Evaluate the interpolating polynomial at the sequence of rescaled x values\n",
    "y_seq = np.polynomial.chebyshev.chebval(x_seq_rescaled, cheb_coeffs)\n",
    "\n",
    "# Plot the original function and the interpolation\n",
    "plt.plot(x_seq, y_seq, label='Interpolation', color='red')\n",
    "plt.scatter(x_points_rescaled, y_points, label='Data Points', color='blue')\n",
    "plt.xlabel('x')\n",
    "plt.ylabel('Phi_integral(x)')\n",
    "plt.legend()\n",
    "plt.show()"
   ]
  },
  {
   "cell_type": "code",
   "execution_count": 5,
   "metadata": {},
   "outputs": [
    {
     "name": "stdout",
     "output_type": "stream",
     "text": [
      "The interpolant value at x = 0 is -2.6645352591003757e-15\n"
     ]
    }
   ],
   "source": [
    "# Input the x value\n",
    "x_value = 0\n",
    "\n",
    "# Rescale x_value to match the original x_points scale\n",
    "x_value_rescaled = (2 * (x_value - x_range[0]) / (x_range[1] - x_range[0])) - 1\n",
    "\n",
    "# Evaluate the interpolating polynomial at the rescaled x value\n",
    "y_value = np.polynomial.chebyshev.chebval(x_value_rescaled, cheb_coeffs)\n",
    "\n",
    "print(f\"The interpolant value at x = {x_value} is {y_value}\")"
   ]
  },
  {
   "cell_type": "code",
   "execution_count": 6,
   "metadata": {},
   "outputs": [
    {
     "name": "stdout",
     "output_type": "stream",
     "text": [
      "Interpolant values at Chebyshev nodes:\n",
      "[ 9.80000000e-01  9.79946110e-01  9.79783877e-01  9.79511606e-01\n",
      "  9.79126448e-01  9.78624375e-01  9.78000134e-01  9.77247189e-01\n",
      "  9.76357651e-01  9.75322191e-01  9.74129938e-01  9.72768358e-01\n",
      "  9.71223109e-01  9.69477887e-01  9.67514229e-01  9.65311306e-01\n",
      "  9.62845674e-01  9.60090994e-01  9.57017715e-01  9.53592705e-01\n",
      "  9.49778838e-01  9.45534516e-01  9.40813122e-01  9.35562396e-01\n",
      "  9.29723715e-01  9.23231263e-01  9.16011077e-01  9.07979933e-01\n",
      "  8.99044060e-01  8.89097634e-01  8.78021015e-01  8.65678682e-01\n",
      "  8.51916785e-01  8.36560255e-01  8.19409357e-01  8.00235582e-01\n",
      "  7.78776706e-01  7.54730870e-01  7.27749430e-01  6.97428380e-01\n",
      "  6.63298090e-01  6.24811255e-01  5.81329273e-01  5.32108234e-01\n",
      "  4.76288315e-01  4.12897542e-01  3.40901871e-01  2.59402061e-01\n",
      "  1.68344369e-01  7.15187208e-02 -2.66453526e-15]\n",
      "\n",
      "Original function values at Chebyshev nodes:\n",
      "[0.98       0.97994611 0.97978388 0.97951161 0.97912645 0.97862438\n",
      " 0.97800013 0.97724719 0.97635765 0.97532219 0.97412994 0.97276836\n",
      " 0.97122311 0.96947789 0.96751423 0.96531131 0.96284567 0.96009099\n",
      " 0.95701771 0.9535927  0.94977884 0.94553452 0.94081312 0.9355624\n",
      " 0.92972371 0.92323126 0.91601108 0.90797993 0.89904406 0.88909763\n",
      " 0.87802102 0.86567868 0.85191678 0.83656025 0.81940936 0.80023558\n",
      " 0.77877671 0.75473087 0.72774943 0.69742838 0.66329809 0.62481125\n",
      " 0.58132927 0.53210823 0.47628832 0.41289754 0.34090187 0.25940206\n",
      " 0.16834437 0.07151872 0.        ]\n",
      "\n",
      "Difference between interpolant and original function values:\n",
      "[-1.33226763e-15 -1.11022302e-16  0.00000000e+00  5.55111512e-16\n",
      " -1.55431223e-15 -6.66133815e-16 -1.11022302e-16  1.33226763e-15\n",
      "  1.11022302e-16  1.11022302e-15 -1.11022302e-16 -8.88178420e-16\n",
      "  2.22044605e-16 -4.44089210e-16  5.55111512e-16  5.55111512e-16\n",
      " -2.22044605e-16  1.11022302e-16 -8.88178420e-16 -6.66133815e-16\n",
      " -2.22044605e-16  7.77156117e-16  2.22044605e-16  1.33226763e-15\n",
      "  6.66133815e-16  6.66133815e-16 -7.77156117e-16  2.22044605e-16\n",
      " -1.33226763e-15  6.66133815e-16 -2.22044605e-16 -3.33066907e-16\n",
      " -4.44089210e-16  7.77156117e-16 -8.88178420e-16  6.66133815e-16\n",
      " -1.11022302e-16  7.77156117e-16 -1.44328993e-15  8.88178420e-16\n",
      " -4.44089210e-16  1.11022302e-16 -2.22044605e-16  8.88178420e-16\n",
      "  1.16573418e-15  2.22044605e-16  2.77555756e-16 -2.49800181e-15\n",
      "  3.80251386e-15  2.42861287e-15 -2.66453526e-15]\n"
     ]
    },
    {
     "data": {
      "text/plain": [
       "<matplotlib.collections.PathCollection at 0x7fdc17875f98>"
      ]
     },
     "execution_count": 6,
     "metadata": {},
     "output_type": "execute_result"
    },
    {
     "data": {
      "image/png": "[encoded data removed]",
      "text/plain": [
       "<Figure size 432x288 with 1 Axes>"
      ]
     },
     "metadata": {
      "needs_background": "light"
     },
     "output_type": "display_data"
    }
   ],
   "source": [
    "# Compute the Chebyshev interpolating polynomial using the original x_points\n",
    "cheb_coeffs = np.polynomial.chebyshev.chebfit(x_points, y_points, n_points - 1)\n",
    "\n",
    "# Now the interpolant should match the function values exactly at the Chebyshev nodes\n",
    "y_interpolated_cheb_nodes = np.polynomial.chebyshev.chebval(x_points, cheb_coeffs)\n",
    "\n",
    "# Verify that the interpolant matches the original function values at the Chebyshev nodes\n",
    "print(\"Interpolant values at Chebyshev nodes:\")\n",
    "print(y_interpolated_cheb_nodes)\n",
    "print(\"\\nOriginal function values at Chebyshev nodes:\")\n",
    "print(y_points)\n",
    "print(\"\\nDifference between interpolant and original function values:\")\n",
    "print(y_interpolated_cheb_nodes - y_points)\n",
    "\n",
    "plt.plot(x_points_rescaled, y_interpolated_cheb_nodes, label='Interpolation', color='red')\n",
    "plt.scatter(x_points_rescaled, y_points, label='Data Points', color='blue')"
   ]
  },
  {
   "cell_type": "code",
   "execution_count": 7,
   "metadata": {},
   "outputs": [],
   "source": [
    "# Define a function to evaluate the interpolated polynomial at a given x value\n",
    "\n",
    "\n",
    "def eval_interpolant(x):\n",
    "    # Rescale x to match the original x_points scale\n",
    "    x_rescaled = (2 * (x - x_range[0]) / (x_range[1] - x_range[0])) - 1\n",
    "    \n",
    "    # Evaluate the interpolating polynomial at the rescaled x value\n",
    "    y = np.polynomial.chebyshev.chebval(x_rescaled, cheb_coeffs)\n",
    "    \n",
    "    return y"
   ]
  },
  {
   "cell_type": "code",
   "execution_count": 8,
   "metadata": {},
   "outputs": [
    {
     "data": {
      "text/plain": [
       "-2.6645352591003757e-15"
      ]
     },
     "execution_count": 8,
     "metadata": {},
     "output_type": "execute_result"
    }
   ],
   "source": [
    "eval_interpolant(0)"
   ]
  },
  {
   "cell_type": "code",
   "execution_count": 9,
   "metadata": {},
   "outputs": [],
   "source": [
    "from scipy import integrate\n",
    "\n",
    "def integrand(p, m, cheb_coeffs):\n",
    "    interpolant_value = np.polynomial.chebyshev.chebval(p, cheb_coeffs)\n",
    "    return(-m * Phi_fixed(p) * (interpolant_value**(m-1)))\n",
    "\n",
    "def integrate_with_interpolant(m, cheb_coeffs):\n",
    "    return integrate.quad(integrand, 0, 0.2, args=(m, cheb_coeffs))[0]"
   ]
  },
  {
   "cell_type": "code",
   "execution_count": 10,
   "metadata": {},
   "outputs": [
    {
     "data": {
      "text/plain": [
       "-0.8970938756290595"
      ]
     },
     "execution_count": 10,
     "metadata": {},
     "output_type": "execute_result"
    }
   ],
   "source": [
    "integrate_with_interpolant(1, cheb_coeffs)"
   ]
  },
  {
   "cell_type": "code",
   "execution_count": 11,
   "metadata": {},
   "outputs": [
    {
     "data": {
      "text/plain": [
       "0.9611555973479167"
      ]
     },
     "execution_count": 11,
     "metadata": {},
     "output_type": "execute_result"
    }
   ],
   "source": [
    "def integrand(p, cheb_coeffs):\n",
    "    interpolant_value = np.polynomial.chebyshev.chebval(p, cheb_coeffs)\n",
    "    return interpolant_value\n",
    "\n",
    "integrand(0.5, cheb_coeffs)"
   ]
  },
  {
   "cell_type": "code",
   "execution_count": 12,
   "metadata": {},
   "outputs": [
    {
     "data": {
      "text/plain": [
       "0.9611555973479167"
      ]
     },
     "execution_count": 12,
     "metadata": {},
     "output_type": "execute_result"
    }
   ],
   "source": [
    "np.polynomial.chebyshev.chebval(0.5, cheb_coeffs)"
   ]
  },
  {
   "cell_type": "code",
   "execution_count": 13,
   "metadata": {},
   "outputs": [
    {
     "name": "stdout",
     "output_type": "stream",
     "text": [
      "-1.970407066359814\n"
     ]
    }
   ],
   "source": [
    "m = 40\n",
    "p = 0.25\n",
    "print(-m * Phi_fixed(p) * np.polynomial.chebyshev.chebval(p, cheb_coeffs)**(m-1))"
   ]
  },
  {
   "cell_type": "code",
   "execution_count": 14,
   "metadata": {},
   "outputs": [],
   "source": [
    "\n",
    "\n",
    "def Phi(p, pm, n):\n",
    "    lp = betaincinv(n/2, 1/2, 2*p)\n",
    "    lpm = betaincinv(1/2, n/2, 1-2*pm)\n",
    "    return (\n",
    "        (lp**((0.5)*(-n-1))) *\n",
    "        np.sqrt((-lp*(lpm-1))/((lp-1)*lpm - 2*np.sqrt((1-lp)*lp)*np.sqrt((1-lpm)*lpm) + 1)) *\n",
    "        (1/((1/lp) - (2*np.sqrt(1-lp)*np.sqrt(lpm)/(np.sqrt(lp)*np.sqrt(1-lpm))) + (1/(1-lpm)) - 1))**(n/2)\n",
    "    )\n",
    "\n",
    "def Phi_H(p, pm, n):\n",
    "    lp = betaincinv(n/2, 1/2, 2*p)\n",
    "    lpm = betaincinv(1/2, n/2, 1-2*pm)\n",
    "    lp_prime = betaincinv(1/2, n/2, 2*p-1)\n",
    "    numerator = (lp_prime - 1) * (lpm - 1)\n",
    "    denominator = (lp_prime * (-lpm)) + 2 * np.sqrt((1 - lp_prime) * lp_prime) * np.sqrt((1 - lpm) * lpm) + 1\n",
    "    return ((1 - lp_prime)**((-n-1)/2)) * np.power(numerator / denominator, (n+1)/2)\n",
    "\n",
    "def phi(p, pm, n):\n",
    "    if p <= 0.5:\n",
    "        return Phi(p, pm, n)\n",
    "    else:\n",
    "        return Phi_H(p, pm, n)\n",
    "\n"
   ]
  },
  {
   "cell_type": "code",
   "execution_count": 15,
   "metadata": {},
   "outputs": [
    {
     "name": "stderr",
     "output_type": "stream",
     "text": [
      "/Users/zaynpersonal/anaconda3/lib/python3.7/site-packages/ipykernel_launcher.py:13: RuntimeWarning: divide by zero encountered in double_scalars\n",
      "  del sys.path[0]\n",
      "/Users/zaynpersonal/anaconda3/lib/python3.7/site-packages/ipykernel_launcher.py:13: RuntimeWarning: invalid value encountered in double_scalars\n",
      "  del sys.path[0]\n",
      "/Users/zaynpersonal/anaconda3/lib/python3.7/site-packages/ipykernel_launcher.py:14: RuntimeWarning: divide by zero encountered in double_scalars\n",
      "  \n",
      "/Users/zaynpersonal/anaconda3/lib/python3.7/site-packages/ipykernel_launcher.py:14: RuntimeWarning: invalid value encountered in double_scalars\n",
      "  \n",
      "/Users/zaynpersonal/anaconda3/lib/python3.7/site-packages/ipykernel_launcher.py:22: RuntimeWarning: divide by zero encountered in double_scalars\n",
      "/Users/zaynpersonal/anaconda3/lib/python3.7/site-packages/ipykernel_launcher.py:22: RuntimeWarning: invalid value encountered in double_scalars\n"
     ]
    },
    {
     "data": {
      "image/png": "[encoded data removed]",
      "text/plain": [
       "<Figure size 432x288 with 1 Axes>"
      ]
     },
     "metadata": {
      "needs_background": "light"
     },
     "output_type": "display_data"
    }
   ],
   "source": [
    "from scipy.special import betaincinv\n",
    "import numpy as np\n",
    "import matplotlib.pyplot as plt\n",
    "from scipy import integrate\n",
    "\n",
    "\n",
    "def phi(p, pm, n):\n",
    "    if p < 0.5:\n",
    "        lp = betaincinv(n/2, 1/2, 2*p)\n",
    "        lpm = betaincinv(1/2, n/2, 1-2*pm)\n",
    "        return (\n",
    "            (lp**((0.5)*(-n-1))) *\n",
    "            np.sqrt((-lp*(lpm-1))/((lp-1)*lpm - 2*np.sqrt((1-lp)*lp)*np.sqrt((1-lpm)*lpm) + 1)) *\n",
    "            (1/((1/lp) - (2*np.sqrt(1-lp)*np.sqrt(lpm)/(np.sqrt(lp)*np.sqrt(1-lpm))) + (1/(1-lpm)) - 1))**(n/2)\n",
    "        )\n",
    "    else:\n",
    "        lp = betaincinv(n/2, 1/2, 2*p)\n",
    "        lpm = betaincinv(1/2, n/2, 1-2*pm)\n",
    "        lp_prime = betaincinv(1/2, n/2, 2*p-1)\n",
    "        numerator = (lp_prime - 1) * (lpm - 1)\n",
    "        denominator = (lp_prime * (-lpm)) + 2 * np.sqrt((1 - lp_prime) * lp_prime) * np.sqrt((1 - lpm) * lpm) + 1\n",
    "        return ((1 - lp_prime)**((-n-1)/2)) * np.power(numerator / denominator, (n+1)/2)\n",
    "\n",
    "# Set the parameters\n",
    "n = 30 # sample size\n",
    "median_p = 0.02137005\n",
    "\n",
    "# Define the range of p values to plot\n",
    "p_values = np.linspace(0, 1, 1000)\n",
    "\n",
    "# Compute the function values for the given range of p values\n",
    "phi_values = [phi(p, median_p, n) for p in p_values]\n",
    "\n",
    "# Plot the function\n",
    "plt.plot(p_values, phi_values)\n",
    "plt.xlabel('p')\n",
    "plt.ylabel('phi(p)')\n",
    "plt.title('phi(p) for n = 10 and pm = 0.6')\n",
    "plt.show()"
   ]
  },
  {
   "cell_type": "code",
   "execution_count": 16,
   "metadata": {},
   "outputs": [],
   "source": [
    "def phi_fixed(p):\n",
    "    return phi(p, median_p, n)\n",
    "\n",
    "def phi_integral(x):\n",
    "    if x == 0:\n",
    "        return 0\n",
    "    return quad(phi_fixed, 0, x)[0]"
   ]
  },
  {
   "cell_type": "code",
   "execution_count": 17,
   "metadata": {},
   "outputs": [
    {
     "data": {
      "image/png": "[encoded data removed]",
      "text/plain": [
       "<Figure size 432x288 with 1 Axes>"
      ]
     },
     "metadata": {
      "needs_background": "light"
     },
     "output_type": "display_data"
    }
   ],
   "source": [
    "import numpy as np\n",
    "import matplotlib.pyplot as plt\n",
    "\n",
    "# Define the range of x values to interpolate over\n",
    "x_range = (0, 1)\n",
    "\n",
    "# Define the number of data points to use\n",
    "n_points = 101\n",
    "\n",
    "# Generate the data points to interpolate\n",
    "x_points = np.cos(np.pi * (np.arange(n_points) / (n_points - 1)))\n",
    "x_points_rescaled = (x_points + 1) / 2 * (x_range[1] - x_range[0]) + x_range[0]\n",
    "y_points = np.array([phi_integral(x) for x in x_points_rescaled])\n",
    "\n",
    "# Compute the Chebyshev interpolating polynomial using the original x_points\n",
    "cheb_coeffs = np.polynomial.chebyshev.chebfit(x_points, y_points, n_points - 1)\n",
    "\n",
    "# Define a sequence of x values to evaluate the interpolating polynomial at\n",
    "x_seq = np.linspace(x_range[0], x_range[1], 100)\n",
    "\n",
    "# Rescale x_seq to match the original x_points scale\n",
    "x_seq_rescaled = (2 * (x_seq - x_range[0]) / (x_range[1] - x_range[0])) - 1\n",
    "\n",
    "# Evaluate the interpolating polynomial at the sequence of rescaled x values\n",
    "y_seq = np.polynomial.chebyshev.chebval(x_seq_rescaled, cheb_coeffs)\n",
    "\n",
    "# Plot the original function and the interpolation\n",
    "plt.plot(x_seq, y_seq, label='Interpolation', color='red')\n",
    "plt.scatter(x_points_rescaled, y_points, label='Data Points', color='blue')\n",
    "plt.xlabel('x')\n",
    "plt.ylabel('Phi_integral(x)')\n",
    "plt.legend()\n",
    "plt.show()"
   ]
  },
  {
   "cell_type": "code",
   "execution_count": 18,
   "metadata": {},
   "outputs": [
    {
     "name": "stdout",
     "output_type": "stream",
     "text": [
      "The interpolant value at p = 1 is 0.9999999969265941\n"
     ]
    }
   ],
   "source": [
    "def evaluate_chebychev_interpolant(p, cheb_coeffs, x_range):\n",
    "    # Rescale p to match the original x_points scale\n",
    "    p_rescaled = (2 * (p - x_range[0]) / (x_range[1] - x_range[0])) - 1\n",
    "    # Evaluate the interpolating polynomial at the rescaled p value\n",
    "    y = np.polynomial.chebyshev.chebval(p_rescaled, cheb_coeffs)\n",
    "    return y\n",
    "\n",
    "# Evaluate the interpolating polynomial at a given p value\n",
    "p = 1\n",
    "y_interp = evaluate_chebychev_interpolant(p, cheb_coeffs, x_range)\n",
    "print(f\"The interpolant value at p = {p} is {y_interp}\")"
   ]
  },
  {
   "cell_type": "code",
   "execution_count": 19,
   "metadata": {},
   "outputs": [],
   "source": [
    "from scipy import integrate\n",
    "\n",
    "def integrand(p, m, cheb_coeffs):\n",
    "    interpolant_value = np.polynomial.chebyshev.chebval(p, cheb_coeffs)\n",
    "    return(-m * phi_fixed(p) * (interpolant_value**(m-1)))\n",
    "\n",
    "def integrate_with_interpolant(m, cheb_coeffs):\n",
    "    return integrate.quad(integrand, 0, 1, args=(m, cheb_coeffs))[0]"
   ]
  },
  {
   "cell_type": "markdown",
   "metadata": {},
   "source": [
    "## Code for Figure 2.3"
   ]
  },
  {
   "cell_type": "code",
   "execution_count": 21,
   "metadata": {},
   "outputs": [
    {
     "name": "stdout",
     "output_type": "stream",
     "text": [
      "Expectation of the minimum of m trials: 0.07704647345683609\n"
     ]
    },
    {
     "name": "stderr",
     "output_type": "stream",
     "text": [
      "/Users/zaynpersonal/anaconda3/lib/python3.7/site-packages/ipykernel_launcher.py:22: IntegrationWarning: The occurrence of roundoff error is detected, which prevents \n",
      "  the requested tolerance from being achieved.  The error may be \n",
      "  underestimated.\n"
     ]
    }
   ],
   "source": [
    "import numpy as np\n",
    "from scipy.integrate import quad\n",
    "from scipy.misc import derivative\n",
    "\n",
    "\n",
    "# Function to calculate the CDF of the custom PDF\n",
    "def cdf_phi(p, pm, n):\n",
    "    return quad(phi, 0, p, args=(pm, n))[0]\n",
    "\n",
    "# Function to calculate the CDF of the minimum of m trials\n",
    "def cdf_min_m(p, pm, n, m):\n",
    "    cdf = cdf_phi(p, pm, n)\n",
    "    return 1 - (1 - cdf) ** m\n",
    "\n",
    "# Function to calculate the PDF of the minimum of m trials\n",
    "def pdf_min_m(p, pm, n, m):\n",
    "    return derivative(lambda x: cdf_min_m(x, pm, n, m), p, dx=1e-6)\n",
    "\n",
    "# Function to compute the expectation of the minimum of m trials\n",
    "def expectation_min_m(pm, n, m):\n",
    "    integrand = lambda p: p * pdf_min_m(p, pm, n, m)\n",
    "    return quad(integrand, 0, 1, limit=200)[0]\n",
    "\n",
    "# Example usage\n",
    "pm = 0.1 # Example parameter\n",
    "n = 30    # Example parameter\n",
    "m = 2    # Number of trials\n",
    "\n",
    "expectation = expectation_min_m(pm, n, m)\n",
    "print(\"Expectation of the minimum of m trials:\", expectation)"
   ]
  },
  {
   "cell_type": "code",
   "execution_count": 44,
   "metadata": {},
   "outputs": [],
   "source": [
    "# Example usage\n",
    "pm = 0.45 # Example parameter\n",
    "n = 30    # Example parameter\n",
    "\n",
    "# Calculate expectations for m=1 to m=20\n",
    "m_values = np.arange(1, 15)\n",
    "expectations5 = [expectation_min_m(pm, n, m) for m in m_values]"
   ]
  },
  {
   "cell_type": "code",
   "execution_count": 58,
   "metadata": {},
   "outputs": [
    {
     "data": {
      "image/png": "[encoded data removed]",
      "text/plain": [
       "<Figure size 432x288 with 1 Axes>"
      ]
     },
     "metadata": {
      "needs_background": "light"
     },
     "output_type": "display_data"
    }
   ],
   "source": [
    "import matplotlib.pyplot as plt\n",
    "\n",
    "# Plot the results\n",
    "plt.plot(m_values, expectations1, marker='o', label=r'$p_M$ = 0.1, $n$=30')\n",
    "plt.plot(m_values, expectations2, marker='o', label=r'$p_M$ = 0.1, $n$ = 5')\n",
    "plt.plot(m_values, expectations3, marker='o', label=r'$p_M$ = 0.4')\n",
    "plt.plot(m_values, expectations4, marker='o', label=r'$p_M$ = 0.5')\n",
    "\n",
    "\n",
    "# Add labels and title\n",
    "plt.xlabel('Number of Trials (m)')\n",
    "plt.ylabel('Expectation of the Minimum')\n",
    "# plt.title('Expectation of the Minimum vs. Number of Trials')  # Commented out\n",
    "\n",
    "# Add legend\n",
    "plt.legend(loc='upper right')\n",
    "\n",
    "# Add grid and show plot\n",
    "plt.grid()\n",
    "\n",
    "plt.savefig('trials.png', dpi=300)\n",
    "plt.show()"
   ]
  }
 ],
 "metadata": {
  "kernelspec": {
   "display_name": "Python 3",
   "language": "python",
   "name": "python3"
  },
  "language_info": {
   "codemirror_mode": {
    "name": "ipython",
    "version": 3
   },
   "file_extension": ".py",
   "mimetype": "text/x-python",
   "name": "python",
   "nbconvert_exporter": "python",
   "pygments_lexer": "ipython3",
   "version": "3.7.3"
  }
 },
 "nbformat": 4,
 "nbformat_minor": 2
}
